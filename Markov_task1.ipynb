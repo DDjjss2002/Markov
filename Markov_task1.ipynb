{
 "cells": [
  {
   "cell_type": "code",
   "execution_count": 1,
   "id": "0d036e62-a65f-4eeb-973b-8ca657d1aaac",
   "metadata": {},
   "outputs": [],
   "source": [
    "import matplotlib.pyplot as plt\n",
    "import numpy as np\n",
    "import pandas as pd\n",
    "from datetime import datetime\n",
    "import ast\n",
    "%config InlineBackend.figure_format = 'retina'\n",
    "plt.rcParams['font.sans-serif'] = 'SimHei'\n",
    "# 用于正常显示符号\n",
    "plt.rcParams['axes.unicode_minus'] = False"
   ]
  },
  {
   "cell_type": "code",
   "execution_count": 2,
   "id": "fc8af849-a315-4849-9f95-4da0949d4a28",
   "metadata": {},
   "outputs": [],
   "source": [
    "df=pd.read_csv('./data/task1_dataset.csv')"
   ]
  },
  {
   "cell_type": "code",
   "execution_count": 3,
   "id": "66636340-e7fc-42ea-9864-98596655c2c4",
   "metadata": {},
   "outputs": [
    {
     "data": {
      "text/html": [
       "<div>\n",
       "<style scoped>\n",
       "    .dataframe tbody tr th:only-of-type {\n",
       "        vertical-align: middle;\n",
       "    }\n",
       "\n",
       "    .dataframe tbody tr th {\n",
       "        vertical-align: top;\n",
       "    }\n",
       "\n",
       "    .dataframe thead th {\n",
       "        text-align: right;\n",
       "    }\n",
       "</style>\n",
       "<table border=\"1\" class=\"dataframe\">\n",
       "  <thead>\n",
       "    <tr style=\"text-align: right;\">\n",
       "      <th></th>\n",
       "      <th>uid</th>\n",
       "      <th>d</th>\n",
       "      <th>t</th>\n",
       "      <th>x</th>\n",
       "      <th>y</th>\n",
       "    </tr>\n",
       "  </thead>\n",
       "  <tbody>\n",
       "    <tr>\n",
       "      <th>0</th>\n",
       "      <td>0</td>\n",
       "      <td>0</td>\n",
       "      <td>1</td>\n",
       "      <td>79</td>\n",
       "      <td>86</td>\n",
       "    </tr>\n",
       "    <tr>\n",
       "      <th>1</th>\n",
       "      <td>0</td>\n",
       "      <td>0</td>\n",
       "      <td>2</td>\n",
       "      <td>79</td>\n",
       "      <td>86</td>\n",
       "    </tr>\n",
       "    <tr>\n",
       "      <th>2</th>\n",
       "      <td>0</td>\n",
       "      <td>0</td>\n",
       "      <td>8</td>\n",
       "      <td>77</td>\n",
       "      <td>86</td>\n",
       "    </tr>\n",
       "    <tr>\n",
       "      <th>3</th>\n",
       "      <td>0</td>\n",
       "      <td>0</td>\n",
       "      <td>9</td>\n",
       "      <td>77</td>\n",
       "      <td>86</td>\n",
       "    </tr>\n",
       "    <tr>\n",
       "      <th>4</th>\n",
       "      <td>0</td>\n",
       "      <td>0</td>\n",
       "      <td>19</td>\n",
       "      <td>81</td>\n",
       "      <td>89</td>\n",
       "    </tr>\n",
       "  </tbody>\n",
       "</table>\n",
       "</div>"
      ],
      "text/plain": [
       "   uid  d   t   x   y\n",
       "0    0  0   1  79  86\n",
       "1    0  0   2  79  86\n",
       "2    0  0   8  77  86\n",
       "3    0  0   9  77  86\n",
       "4    0  0  19  81  89"
      ]
     },
     "execution_count": 3,
     "metadata": {},
     "output_type": "execute_result"
    }
   ],
   "source": [
    "df.head()"
   ]
  },
  {
   "cell_type": "code",
   "execution_count": 4,
   "id": "05871f94-acf5-4299-832d-8c82616e1e47",
   "metadata": {},
   "outputs": [
    {
     "name": "stdout",
     "output_type": "stream",
     "text": [
      "111535175\n"
     ]
    }
   ],
   "source": [
    "print(len(df))"
   ]
  },
  {
   "cell_type": "code",
   "execution_count": 5,
   "id": "5daaa878-caed-4998-8875-7748d0a43082",
   "metadata": {},
   "outputs": [],
   "source": [
    "df=df.drop(df[df['x']==999].index)"
   ]
  },
  {
   "cell_type": "code",
   "execution_count": 6,
   "id": "ae096527-91f4-4d51-a825-d3f876dd99d6",
   "metadata": {},
   "outputs": [],
   "source": [
    "df['p']=(df['x']-1)*200+df['y']-1"
   ]
  },
  {
   "cell_type": "code",
   "execution_count": 7,
   "id": "e6777ff3-ff34-4422-bd90-7729fccfcd5f",
   "metadata": {},
   "outputs": [
    {
     "data": {
      "text/html": [
       "<div>\n",
       "<style scoped>\n",
       "    .dataframe tbody tr th:only-of-type {\n",
       "        vertical-align: middle;\n",
       "    }\n",
       "\n",
       "    .dataframe tbody tr th {\n",
       "        vertical-align: top;\n",
       "    }\n",
       "\n",
       "    .dataframe thead th {\n",
       "        text-align: right;\n",
       "    }\n",
       "</style>\n",
       "<table border=\"1\" class=\"dataframe\">\n",
       "  <thead>\n",
       "    <tr style=\"text-align: right;\">\n",
       "      <th></th>\n",
       "      <th>uid</th>\n",
       "      <th>d</th>\n",
       "      <th>t</th>\n",
       "      <th>x</th>\n",
       "      <th>y</th>\n",
       "      <th>p</th>\n",
       "    </tr>\n",
       "  </thead>\n",
       "  <tbody>\n",
       "    <tr>\n",
       "      <th>0</th>\n",
       "      <td>0</td>\n",
       "      <td>0</td>\n",
       "      <td>1</td>\n",
       "      <td>79</td>\n",
       "      <td>86</td>\n",
       "      <td>15685</td>\n",
       "    </tr>\n",
       "    <tr>\n",
       "      <th>1</th>\n",
       "      <td>0</td>\n",
       "      <td>0</td>\n",
       "      <td>2</td>\n",
       "      <td>79</td>\n",
       "      <td>86</td>\n",
       "      <td>15685</td>\n",
       "    </tr>\n",
       "    <tr>\n",
       "      <th>2</th>\n",
       "      <td>0</td>\n",
       "      <td>0</td>\n",
       "      <td>8</td>\n",
       "      <td>77</td>\n",
       "      <td>86</td>\n",
       "      <td>15285</td>\n",
       "    </tr>\n",
       "    <tr>\n",
       "      <th>3</th>\n",
       "      <td>0</td>\n",
       "      <td>0</td>\n",
       "      <td>9</td>\n",
       "      <td>77</td>\n",
       "      <td>86</td>\n",
       "      <td>15285</td>\n",
       "    </tr>\n",
       "    <tr>\n",
       "      <th>4</th>\n",
       "      <td>0</td>\n",
       "      <td>0</td>\n",
       "      <td>19</td>\n",
       "      <td>81</td>\n",
       "      <td>89</td>\n",
       "      <td>16088</td>\n",
       "    </tr>\n",
       "  </tbody>\n",
       "</table>\n",
       "</div>"
      ],
      "text/plain": [
       "   uid  d   t   x   y      p\n",
       "0    0  0   1  79  86  15685\n",
       "1    0  0   2  79  86  15685\n",
       "2    0  0   8  77  86  15285\n",
       "3    0  0   9  77  86  15285\n",
       "4    0  0  19  81  89  16088"
      ]
     },
     "execution_count": 7,
     "metadata": {},
     "output_type": "execute_result"
    }
   ],
   "source": [
    "df.head()"
   ]
  },
  {
   "cell_type": "code",
   "execution_count": 8,
   "id": "9a3e02c3-5b99-45c9-a8d7-8f97db992973",
   "metadata": {},
   "outputs": [
    {
     "name": "stdout",
     "output_type": "stream",
     "text": [
      "99999\n"
     ]
    }
   ],
   "source": [
    "print(max(df['uid']))"
   ]
  },
  {
   "cell_type": "markdown",
   "id": "1d9e4707-7261-4bae-86ea-590a1c4e0419",
   "metadata": {},
   "source": [
    "## 因为内存不够，所以得分两批数据跑"
   ]
  },
  {
   "cell_type": "code",
   "execution_count": 9,
   "id": "267a9f5c-dca8-4f8c-885c-d0faef169509",
   "metadata": {},
   "outputs": [],
   "source": [
    "df=df[df['uid']>=50000]"
   ]
  },
  {
   "cell_type": "code",
   "execution_count": 10,
   "id": "1818ec37-424a-4908-805d-2ba4a6c66622",
   "metadata": {},
   "outputs": [],
   "source": [
    "df_train=df[df['d']<60]\n",
    "df_valid=df[df['d']>=60]"
   ]
  },
  {
   "cell_type": "code",
   "execution_count": 11,
   "id": "7c0f015d-bdc4-4136-b212-e4039b0634bb",
   "metadata": {},
   "outputs": [],
   "source": [
    "df_train=df_train[['uid','p']]\n",
    "df_valid=df_valid[['uid','p']]"
   ]
  },
  {
   "cell_type": "code",
   "execution_count": 12,
   "id": "18aa2482-9d30-4cd6-981d-74e80975e0e5",
   "metadata": {},
   "outputs": [],
   "source": [
    "data=df_train.values.tolist()"
   ]
  },
  {
   "cell_type": "code",
   "execution_count": 13,
   "id": "77daf865-0f80-48f4-aaf3-3a30f9625be9",
   "metadata": {},
   "outputs": [],
   "source": [
    "map_user1=[]\n",
    "map_user2=[]\n",
    "user_num=np.zeros((max(df['uid']))+1,dtype=np.int32)\n",
    "for i in range((max(df['uid']))+1):\n",
    "    map_user1.append(dict())\n",
    "    map_user2.append(dict())"
   ]
  },
  {
   "cell_type": "code",
   "execution_count": 14,
   "id": "ed8f4b3e-6a16-480e-9f57-e26da249b67b",
   "metadata": {},
   "outputs": [],
   "source": [
    "for i in range(len(data)):\n",
    "    if data[i][1] not in map_user1[data[i][0]].keys():\n",
    "        map_user1[data[i][0]][data[i][1]]=user_num[data[i][0]]\n",
    "        map_user2[data[i][0]][user_num[data[i][0]]]=data[i][1]\n",
    "        user_num[data[i][0]]+=1"
   ]
  },
  {
   "cell_type": "code",
   "execution_count": 15,
   "id": "de78f732-1122-47b6-bec7-2c0a035da09b",
   "metadata": {},
   "outputs": [],
   "source": [
    "cnt=[]\n",
    "for i in range(max(df_train['uid'])+1):\n",
    "    cnt.append(np.zeros((user_num[i],user_num[i])))"
   ]
  },
  {
   "cell_type": "code",
   "execution_count": 16,
   "id": "94d8c716-91c8-41ff-b6db-ace62afc5524",
   "metadata": {},
   "outputs": [],
   "source": [
    "for i in range(len(data)):\n",
    "    if i>0 and data[i][0]==data[i-1][0]:\n",
    "        cnt[data[i][0]][map_user1[data[i][0]][data[i-1][1]]][map_user1[data[i][0]][data[i][1]]]+=1"
   ]
  },
  {
   "cell_type": "code",
   "execution_count": 17,
   "id": "0644567a-562a-4674-85ff-00406b3a6ae1",
   "metadata": {},
   "outputs": [],
   "source": [
    "max_num_cnt=[]\n",
    "for i in range(max(df_train['uid'])+1):\n",
    "    max_num_cnt.append([])\n",
    "for i in range(max(df_train['uid'])+1):\n",
    "    for j in range(user_num[i]):\n",
    "        max_num_cnt[i].append(np.argmax(cnt[i][j]))"
   ]
  },
  {
   "cell_type": "code",
   "execution_count": 32,
   "id": "0b84365a-6857-451e-9b2e-2b56724e2d3c",
   "metadata": {},
   "outputs": [],
   "source": [
    "last_p=[]\n",
    "for i in range(len(data)):\n",
    "    if i>0 and data[i][0]!=data[i-1][0]:\n",
    "        last_p.append(map_user1[data[i-1][0]][data[i-1][1]])\n",
    "    if i==len(data)-1:\n",
    "        last_p.append(map_user1[data[i][0]][data[i][1]])"
   ]
  },
  {
   "cell_type": "code",
   "execution_count": 33,
   "id": "6be065cd-8dc3-41a4-931e-7b6b4efd5840",
   "metadata": {},
   "outputs": [
    {
     "name": "stdout",
     "output_type": "stream",
     "text": [
      "[]\n"
     ]
    }
   ],
   "source": [
    "print(max_num_cnt[0])"
   ]
  },
  {
   "cell_type": "code",
   "execution_count": 34,
   "id": "7bdb2f24-5bf6-469b-bcf4-4d1c6274c32d",
   "metadata": {},
   "outputs": [],
   "source": [
    "predict_num=np.zeros(max(df_valid['uid'])+1,dtype=np.int32)\n",
    "data_valid=df_valid.values.tolist()"
   ]
  },
  {
   "cell_type": "code",
   "execution_count": 35,
   "id": "1c0f8e48-a9a6-48d7-ba6d-e1b2d4d6b0c9",
   "metadata": {},
   "outputs": [],
   "source": [
    "for i in range(len(data_valid)):\n",
    "    predict_num[data_valid[i][0]]+=1"
   ]
  },
  {
   "cell_type": "code",
   "execution_count": 36,
   "id": "7afedb20-1f56-4704-8f08-0d30c322a2ef",
   "metadata": {},
   "outputs": [],
   "source": [
    "predict_p=[]\n",
    "min_uid=min(df_valid['uid'])\n",
    "max_uid=max(df_valid['uid'])\n",
    "for i in range(min_uid,max_uid+1):\n",
    "    for j in range(predict_num[i]):\n",
    "        pre_point=max_num_cnt[i][last_p[i-min_uid]]\n",
    "        last_p[i-min_uid]=pre_point\n",
    "        predict_p.append(map_user2[i][pre_point])"
   ]
  },
  {
   "cell_type": "code",
   "execution_count": 37,
   "id": "aacf3da3-4d1c-43b4-bc05-56561927684d",
   "metadata": {},
   "outputs": [],
   "source": [
    "df_valid=df[df['d']>=60]"
   ]
  },
  {
   "cell_type": "code",
   "execution_count": 38,
   "id": "104ea2fe-23fe-4dde-aa74-95769e77b1c0",
   "metadata": {},
   "outputs": [
    {
     "name": "stderr",
     "output_type": "stream",
     "text": [
      "/root/miniconda3/lib/python3.6/site-packages/ipykernel_launcher.py:1: SettingWithCopyWarning: \n",
      "A value is trying to be set on a copy of a slice from a DataFrame.\n",
      "Try using .loc[row_indexer,col_indexer] = value instead\n",
      "\n",
      "See the caveats in the documentation: https://pandas.pydata.org/pandas-docs/stable/user_guide/indexing.html#returning-a-view-versus-a-copy\n",
      "  \"\"\"Entry point for launching an IPython kernel.\n"
     ]
    }
   ],
   "source": [
    "df_valid['pred_p']=predict_p"
   ]
  },
  {
   "cell_type": "code",
   "execution_count": 39,
   "id": "bb593cac-84b3-4794-b888-ce2dcddd4c4b",
   "metadata": {},
   "outputs": [
    {
     "name": "stderr",
     "output_type": "stream",
     "text": [
      "/root/miniconda3/lib/python3.6/site-packages/ipykernel_launcher.py:1: SettingWithCopyWarning: \n",
      "A value is trying to be set on a copy of a slice from a DataFrame.\n",
      "Try using .loc[row_indexer,col_indexer] = value instead\n",
      "\n",
      "See the caveats in the documentation: https://pandas.pydata.org/pandas-docs/stable/user_guide/indexing.html#returning-a-view-versus-a-copy\n",
      "  \"\"\"Entry point for launching an IPython kernel.\n",
      "/root/miniconda3/lib/python3.6/site-packages/ipykernel_launcher.py:2: SettingWithCopyWarning: \n",
      "A value is trying to be set on a copy of a slice from a DataFrame.\n",
      "Try using .loc[row_indexer,col_indexer] = value instead\n",
      "\n",
      "See the caveats in the documentation: https://pandas.pydata.org/pandas-docs/stable/user_guide/indexing.html#returning-a-view-versus-a-copy\n",
      "  \n"
     ]
    }
   ],
   "source": [
    "df_valid['pred_x']=df_valid['pred_p']//200+1\n",
    "df_valid['pred_y']=df_valid['pred_p']%200+1"
   ]
  },
  {
   "cell_type": "code",
   "execution_count": 40,
   "id": "45cfe7d7-e61e-4c1f-b741-9b9a11521757",
   "metadata": {},
   "outputs": [
    {
     "data": {
      "text/html": [
       "<div>\n",
       "<style scoped>\n",
       "    .dataframe tbody tr th:only-of-type {\n",
       "        vertical-align: middle;\n",
       "    }\n",
       "\n",
       "    .dataframe tbody tr th {\n",
       "        vertical-align: top;\n",
       "    }\n",
       "\n",
       "    .dataframe thead th {\n",
       "        text-align: right;\n",
       "    }\n",
       "</style>\n",
       "<table border=\"1\" class=\"dataframe\">\n",
       "  <thead>\n",
       "    <tr style=\"text-align: right;\">\n",
       "      <th></th>\n",
       "      <th>uid</th>\n",
       "      <th>d</th>\n",
       "      <th>t</th>\n",
       "      <th>x</th>\n",
       "      <th>y</th>\n",
       "      <th>p</th>\n",
       "      <th>pred_p</th>\n",
       "      <th>pred_x</th>\n",
       "      <th>pred_y</th>\n",
       "    </tr>\n",
       "  </thead>\n",
       "  <tbody>\n",
       "    <tr>\n",
       "      <th>56555275</th>\n",
       "      <td>50000</td>\n",
       "      <td>60</td>\n",
       "      <td>12</td>\n",
       "      <td>163</td>\n",
       "      <td>62</td>\n",
       "      <td>32461</td>\n",
       "      <td>32853</td>\n",
       "      <td>165</td>\n",
       "      <td>54</td>\n",
       "    </tr>\n",
       "    <tr>\n",
       "      <th>56555276</th>\n",
       "      <td>50000</td>\n",
       "      <td>60</td>\n",
       "      <td>13</td>\n",
       "      <td>160</td>\n",
       "      <td>63</td>\n",
       "      <td>31862</td>\n",
       "      <td>32852</td>\n",
       "      <td>165</td>\n",
       "      <td>53</td>\n",
       "    </tr>\n",
       "    <tr>\n",
       "      <th>56555277</th>\n",
       "      <td>50000</td>\n",
       "      <td>60</td>\n",
       "      <td>14</td>\n",
       "      <td>152</td>\n",
       "      <td>83</td>\n",
       "      <td>30282</td>\n",
       "      <td>32853</td>\n",
       "      <td>165</td>\n",
       "      <td>54</td>\n",
       "    </tr>\n",
       "    <tr>\n",
       "      <th>56555278</th>\n",
       "      <td>50000</td>\n",
       "      <td>60</td>\n",
       "      <td>15</td>\n",
       "      <td>152</td>\n",
       "      <td>83</td>\n",
       "      <td>30282</td>\n",
       "      <td>32852</td>\n",
       "      <td>165</td>\n",
       "      <td>53</td>\n",
       "    </tr>\n",
       "    <tr>\n",
       "      <th>56555279</th>\n",
       "      <td>50000</td>\n",
       "      <td>60</td>\n",
       "      <td>16</td>\n",
       "      <td>152</td>\n",
       "      <td>83</td>\n",
       "      <td>30282</td>\n",
       "      <td>32853</td>\n",
       "      <td>165</td>\n",
       "      <td>54</td>\n",
       "    </tr>\n",
       "  </tbody>\n",
       "</table>\n",
       "</div>"
      ],
      "text/plain": [
       "            uid   d   t    x   y      p  pred_p  pred_x  pred_y\n",
       "56555275  50000  60  12  163  62  32461   32853     165      54\n",
       "56555276  50000  60  13  160  63  31862   32852     165      53\n",
       "56555277  50000  60  14  152  83  30282   32853     165      54\n",
       "56555278  50000  60  15  152  83  30282   32852     165      53\n",
       "56555279  50000  60  16  152  83  30282   32853     165      54"
      ]
     },
     "execution_count": 40,
     "metadata": {},
     "output_type": "execute_result"
    }
   ],
   "source": [
    "df_valid.head()"
   ]
  },
  {
   "cell_type": "code",
   "execution_count": 41,
   "id": "2d81bf4f-632d-4fb4-8f76-8b9a7297306c",
   "metadata": {},
   "outputs": [],
   "source": [
    "def calc_geobleu_t(df):\n",
    "    reference = df[[\"d\",\"t\",\"x\",\"y\"]].to_numpy()\n",
    "    generated = df[[\"d\",\"t\",\"pred_x\",\"pred_y\"]].to_numpy()\n",
    "    return geobleu.calc_geobleu_single(generated.tolist(), reference.tolist()) 。"
   ]
  },
  {
   "cell_type": "code",
   "execution_count": 42,
   "id": "4cb5e800-6b0c-4137-924f-8f44a41b3beb",
   "metadata": {},
   "outputs": [
    {
     "name": "stderr",
     "output_type": "stream",
     "text": [
      "100%|██████████| 30000/30000 [10:23<00:00, 48.13it/s]\n"
     ]
    }
   ],
   "source": [
    "import geobleu\n",
    "from joblib import Parallel, delayed\n",
    "from tqdm import tqdm\n",
    "result=[]\n",
    "grouped = df_valid[[\"uid\", \"d\", \"t\", \"x\", \"y\", \"pred_x\", \"pred_y\"]].groupby(\"uid\")\n",
    "results = Parallel(n_jobs=-1)(delayed(calc_geobleu_t)(df) for _, df in tqdm(grouped))"
   ]
  },
  {
   "cell_type": "code",
   "execution_count": 43,
   "id": "03e3723c-2111-433e-adf9-d1c554281850",
   "metadata": {},
   "outputs": [
    {
     "name": "stdout",
     "output_type": "stream",
     "text": [
      "0.18854974102426672\n"
     ]
    }
   ],
   "source": [
    "print(sum(results)/len(results))"
   ]
  },
  {
   "cell_type": "code",
   "execution_count": 44,
   "id": "ff82a7df-b45b-4ddd-b8da-103b8815b3f2",
   "metadata": {},
   "outputs": [],
   "source": [
    "def calc_dtw_t(df):\n",
    "    reference = df[[\"d\",\"t\",\"x\",\"y\"]].to_numpy()\n",
    "    generated = df[[\"d\",\"t\",\"pred_x\",\"pred_y\"]].to_numpy()\n",
    "    return geobleu.calc_dtw_single(generated.tolist(), reference.tolist()) "
   ]
  },
  {
   "cell_type": "code",
   "execution_count": 45,
   "id": "c41c2a7b-8136-4d6c-988d-2e6bb954541a",
   "metadata": {},
   "outputs": [
    {
     "name": "stderr",
     "output_type": "stream",
     "text": [
      "100%|██████████| 30000/30000 [02:32<00:00, 197.24it/s]\n"
     ]
    }
   ],
   "source": [
    "import geobleu\n",
    "from joblib import Parallel, delayed\n",
    "from tqdm import tqdm\n",
    "result=[]\n",
    "grouped = df_valid[[\"uid\", \"d\", \"t\", \"x\", \"y\", \"pred_x\", \"pred_y\"]].groupby(\"uid\")\n",
    "results = Parallel(n_jobs=-1)(delayed(calc_dtw_t)(df) for _, df in tqdm(grouped))"
   ]
  },
  {
   "cell_type": "code",
   "execution_count": 46,
   "id": "d075db7a-01e7-4310-9ce5-77b9311aa5f2",
   "metadata": {},
   "outputs": [
    {
     "name": "stdout",
     "output_type": "stream",
     "text": [
      "26.72210537216688\n"
     ]
    }
   ],
   "source": [
    "print(sum(results)/len(results))"
   ]
  },
  {
   "cell_type": "code",
   "execution_count": 47,
   "id": "6eb9b8b1-8e52-4708-bfeb-5aff5236c29a",
   "metadata": {},
   "outputs": [
    {
     "name": "stdout",
     "output_type": "stream",
     "text": [
      "30000\n"
     ]
    }
   ],
   "source": [
    "print(len(results))"
   ]
  },
  {
   "cell_type": "code",
   "execution_count": null,
   "id": "44ba165e-810a-4bd5-8b29-ada9a7a0898c",
   "metadata": {},
   "outputs": [],
   "source": [
    "## 第一批 geoblue： 0.1754487034314798  dtw：27.732926915321535  50000      \n",
    "## 第二批 geoblue： 0.18854974102426672  dtw：26.72210537216688  30000"
   ]
  },
  {
   "cell_type": "code",
   "execution_count": 48,
   "id": "ff21959e-f48d-4993-bf65-e1bb7b806a6e",
   "metadata": {},
   "outputs": [
    {
     "data": {
      "text/plain": [
       "0.1803615925287749"
      ]
     },
     "execution_count": 48,
     "metadata": {},
     "output_type": "execute_result"
    }
   ],
   "source": [
    "(0.1754487034314798*50000+0.18854974102426672*30000)/80000"
   ]
  },
  {
   "cell_type": "code",
   "execution_count": 49,
   "id": "aba33298-89d3-4014-b6ae-c8a8e111aea7",
   "metadata": {},
   "outputs": [
    {
     "data": {
      "text/plain": [
       "27.35386883663854"
      ]
     },
     "execution_count": 49,
     "metadata": {},
     "output_type": "execute_result"
    }
   ],
   "source": [
    "(27.732926915321535*50000+26.72210537216688*30000)/80000"
   ]
  },
  {
   "cell_type": "code",
   "execution_count": null,
   "id": "cac7a880-8985-4db2-b6c6-4e9040c6d55f",
   "metadata": {},
   "outputs": [],
   "source": []
  }
 ],
 "metadata": {
  "kernelspec": {
   "display_name": "Python 3 (ipykernel)",
   "language": "python",
   "name": "python3"
  },
  "language_info": {
   "codemirror_mode": {
    "name": "ipython",
    "version": 3
   },
   "file_extension": ".py",
   "mimetype": "text/x-python",
   "name": "python",
   "nbconvert_exporter": "python",
   "pygments_lexer": "ipython3",
   "version": "3.8.10"
  }
 },
 "nbformat": 4,
 "nbformat_minor": 5
}
